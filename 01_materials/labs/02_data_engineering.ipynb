{
 "cells": [
  {
   "cell_type": "code",
   "execution_count": 2,
   "metadata": {},
   "outputs": [
    {
     "name": "stdout",
     "output_type": "stream",
     "text": [
      "The dotenv extension is already loaded. To reload it, use:\n",
      "  %reload_ext dotenv\n"
     ]
    }
   ],
   "source": [
    "%load_ext dotenv\n",
    "%dotenv "
   ]
  },
  {
   "cell_type": "markdown",
   "metadata": {},
   "source": [
    "# What are we doing?\n",
    "\n",
    "## Objectives \n",
    "\n",
    "\n",
    "* Build a data pipeline that downloads price data from the internet, stores it locally, transforms it into return data, and stores the feature set.\n",
    "    - Getting the data.\n",
    "    - Schemas and index in dask.\n",
    "\n",
    "* Explore the parquet format.\n",
    "    - Reading and writing parquet files.\n",
    "    - Read datasets that are stored in distributed files.\n",
    "    - Discuss dask vs pandas as a small example of big vs small data.\n",
    "    \n",
    "* Discuss the use of environment variables for settings.\n",
    "* Discuss how to use Jupyter notebooks and source code concurrently. \n",
    "* Logging and using a standard logger.\n",
    "\n",
    "## About the Data\n",
    "\n",
    "+ We will download the prices for a list of stocks.\n",
    "+ The source is Yahoo Finance and we will use the API provided by the library yfinance.\n",
    "\n",
    "\n",
    "## Medallion Architecture\n",
    "\n",
    "+ The architecture that we are thinking about is called Medallion by [DataBricks](https://www.databricks.com/glossary/medallion-architecture). It is an ELT type of thinking, although our data is well-structured.\n",
    "\n",
    "![Medallion Architecture (DataBicks)](./images/02_medallion_architecture.png)\n",
    "\n",
    "+ In our case, we would like to optimize the number of times that we download data from the internet. \n",
    "+ Ultimately, we will build a pipeline manager class that will help us control the process of obtaining and transforming our data.\n",
    "\n",
    "![](./images/02_target_pipeline_manager.png)"
   ]
  },
  {
   "cell_type": "markdown",
   "metadata": {},
   "source": [
    "# Download Data\n",
    "\n",
    "Download the [Stock Market Dataset from Kaggle](https://www.kaggle.com/datasets/jacksoncrow/stock-market-dataset). Note that you may be required to register for a free account.\n",
    "\n",
    "Extract all files into the directory: `./05_src/data/prices_csv/`\n",
    "\n",
    "Your folder structure should include the following paths:\n",
    "\n",
    "+ `05_src/data/prices_csv/etfs`\n",
    "+ `05_src/data/prices_csv/stocks`\n"
   ]
  },
  {
   "cell_type": "code",
   "execution_count": 3,
   "metadata": {},
   "outputs": [],
   "source": [
    "import pandas as pd\n",
    "import os\n",
    "import sys\n",
    "from glob import glob\n",
    "\n",
    "sys.path.append(os.getenv('SRC_DIR'))\n",
    "\n",
    "from utils.logger import get_logger\n",
    "_logs = get_logger(__name__)"
   ]
  },
  {
   "cell_type": "markdown",
   "metadata": {},
   "source": [
    "A few things to notice in the code chunk above:\n",
    "\n",
    "+ Libraries are ordered from high-level to low-level libraries from the package manager (pip in this case, but could be conda, poetry, etc.)\n",
    "+ The command `sys.path.append(\"../05_src/)` will add the `../05_src/` directory to the path in the Notebook's kernel. This way, we can use our modules as part of the notebook.\n",
    "+ Local modules are imported at the end. \n",
    "+ The function `get_logger()` is called with `__name__` as recommended by the documentation."
   ]
  },
  {
   "cell_type": "markdown",
   "metadata": {},
   "source": [
    "Now, to load the historical price data for stocks and ETFs, we could use:"
   ]
  },
  {
   "cell_type": "code",
   "execution_count": 4,
   "metadata": {},
   "outputs": [
    {
     "name": "stderr",
     "output_type": "stream",
     "text": [
      "2025-10-01 19:56:18,826, 4121356139.py, 10, INFO, Reading file: ../../05_src/data/prices_csv/stocks/PQG.csv\n",
      "2025-10-01 19:56:18,860, 4121356139.py, 10, INFO, Reading file: ../../05_src/data/prices_csv/stocks/BFIN.csv\n",
      "2025-10-01 19:56:18,884, 4121356139.py, 10, INFO, Reading file: ../../05_src/data/prices_csv/stocks/NXN.csv\n",
      "2025-10-01 19:56:18,907, 4121356139.py, 10, INFO, Reading file: ../../05_src/data/prices_csv/stocks/YMAB.csv\n",
      "2025-10-01 19:56:18,910, 4121356139.py, 10, INFO, Reading file: ../../05_src/data/prices_csv/stocks/BSGM.csv\n",
      "2025-10-01 19:56:18,925, 4121356139.py, 10, INFO, Reading file: ../../05_src/data/prices_csv/stocks/VGI.csv\n",
      "2025-10-01 19:56:18,942, 4121356139.py, 10, INFO, Reading file: ../../05_src/data/prices_csv/stocks/CCI.csv\n",
      "2025-10-01 19:56:18,963, 4121356139.py, 10, INFO, Reading file: ../../05_src/data/prices_csv/stocks/NAZ.csv\n",
      "2025-10-01 19:56:19,003, 4121356139.py, 10, INFO, Reading file: ../../05_src/data/prices_csv/stocks/CFFI.csv\n",
      "2025-10-01 19:56:19,012, 4121356139.py, 10, INFO, Reading file: ../../05_src/data/prices_csv/stocks/DEAC.csv\n",
      "2025-10-01 19:56:19,017, 4121356139.py, 10, INFO, Reading file: ../../05_src/data/prices_csv/stocks/WOW.csv\n",
      "2025-10-01 19:56:19,028, 4121356139.py, 10, INFO, Reading file: ../../05_src/data/prices_csv/stocks/HFFG.csv\n",
      "2025-10-01 19:56:19,038, 4121356139.py, 10, INFO, Reading file: ../../05_src/data/prices_csv/stocks/SSY.csv\n",
      "2025-10-01 19:56:19,070, 4121356139.py, 10, INFO, Reading file: ../../05_src/data/prices_csv/stocks/SGRY.csv\n",
      "2025-10-01 19:56:19,109, 4121356139.py, 10, INFO, Reading file: ../../05_src/data/prices_csv/stocks/THCA.csv\n",
      "2025-10-01 19:56:19,116, 4121356139.py, 10, INFO, Reading file: ../../05_src/data/prices_csv/stocks/IMTE.csv\n",
      "2025-10-01 19:56:19,123, 4121356139.py, 10, INFO, Reading file: ../../05_src/data/prices_csv/stocks/HOV.csv\n",
      "2025-10-01 19:56:19,146, 4121356139.py, 10, INFO, Reading file: ../../05_src/data/prices_csv/stocks/NVIV.csv\n",
      "2025-10-01 19:56:19,154, 4121356139.py, 10, INFO, Reading file: ../../05_src/data/prices_csv/stocks/GPK.csv\n",
      "2025-10-01 19:56:19,182, 4121356139.py, 10, INFO, Reading file: ../../05_src/data/prices_csv/stocks/NEV.csv\n",
      "2025-10-01 19:56:19,192, 4121356139.py, 10, INFO, Reading file: ../../05_src/data/prices_csv/stocks/FLT.csv\n",
      "2025-10-01 19:56:19,208, 4121356139.py, 10, INFO, Reading file: ../../05_src/data/prices_csv/stocks/RFM.csv\n",
      "2025-10-01 19:56:19,226, 4121356139.py, 10, INFO, Reading file: ../../05_src/data/prices_csv/stocks/KSM.csv\n",
      "2025-10-01 19:56:19,248, 4121356139.py, 10, INFO, Reading file: ../../05_src/data/prices_csv/stocks/RCMT.csv\n",
      "2025-10-01 19:56:19,296, 4121356139.py, 10, INFO, Reading file: ../../05_src/data/prices_csv/stocks/MDC.csv\n",
      "2025-10-01 19:56:19,321, 4121356139.py, 10, INFO, Reading file: ../../05_src/data/prices_csv/stocks/TY.csv\n",
      "2025-10-01 19:56:19,344, 4121356139.py, 10, INFO, Reading file: ../../05_src/data/prices_csv/stocks/PIC.csv\n",
      "2025-10-01 19:56:19,361, 4121356139.py, 10, INFO, Reading file: ../../05_src/data/prices_csv/stocks/CEQP.csv\n",
      "2025-10-01 19:56:19,378, 4121356139.py, 10, INFO, Reading file: ../../05_src/data/prices_csv/stocks/QRTEA.csv\n",
      "2025-10-01 19:56:19,399, 4121356139.py, 10, INFO, Reading file: ../../05_src/data/prices_csv/stocks/ATEX.csv\n",
      "2025-10-01 19:56:19,416, 4121356139.py, 10, INFO, Reading file: ../../05_src/data/prices_csv/stocks/GNUS.csv\n",
      "2025-10-01 19:56:19,424, 4121356139.py, 10, INFO, Reading file: ../../05_src/data/prices_csv/stocks/CTAA.csv\n",
      "2025-10-01 19:56:19,444, 4121356139.py, 10, INFO, Reading file: ../../05_src/data/prices_csv/stocks/AQN.csv\n",
      "2025-10-01 19:56:19,460, 4121356139.py, 10, INFO, Reading file: ../../05_src/data/prices_csv/stocks/PFSW.csv\n",
      "2025-10-01 19:56:19,470, 4121356139.py, 10, INFO, Reading file: ../../05_src/data/prices_csv/stocks/GLG.csv\n",
      "2025-10-01 19:56:19,477, 4121356139.py, 10, INFO, Reading file: ../../05_src/data/prices_csv/stocks/PXLW.csv\n",
      "2025-10-01 19:56:19,497, 4121356139.py, 10, INFO, Reading file: ../../05_src/data/prices_csv/stocks/AGS.csv\n",
      "2025-10-01 19:56:19,506, 4121356139.py, 10, INFO, Reading file: ../../05_src/data/prices_csv/stocks/NMRK.csv\n",
      "2025-10-01 19:56:19,510, 4121356139.py, 10, INFO, Reading file: ../../05_src/data/prices_csv/stocks/RAVN.csv\n",
      "2025-10-01 19:56:19,548, 4121356139.py, 10, INFO, Reading file: ../../05_src/data/prices_csv/stocks/MMYT.csv\n",
      "2025-10-01 19:56:19,565, 4121356139.py, 10, INFO, Reading file: ../../05_src/data/prices_csv/stocks/FTSI.csv\n",
      "2025-10-01 19:56:19,572, 4121356139.py, 10, INFO, Reading file: ../../05_src/data/prices_csv/stocks/CSCO.csv\n",
      "2025-10-01 19:56:19,598, 4121356139.py, 10, INFO, Reading file: ../../05_src/data/prices_csv/stocks/GRFS.csv\n",
      "2025-10-01 19:56:19,612, 4121356139.py, 10, INFO, Reading file: ../../05_src/data/prices_csv/stocks/OPP.csv\n",
      "2025-10-01 19:56:19,623, 4121356139.py, 10, INFO, Reading file: ../../05_src/data/prices_csv/stocks/ATLC.csv\n",
      "2025-10-01 19:56:19,645, 4121356139.py, 10, INFO, Reading file: ../../05_src/data/prices_csv/stocks/JMIA.csv\n",
      "2025-10-01 19:56:19,650, 4121356139.py, 10, INFO, Reading file: ../../05_src/data/prices_csv/stocks/LACQU.csv\n",
      "2025-10-01 19:56:19,656, 4121356139.py, 10, INFO, Reading file: ../../05_src/data/prices_csv/stocks/DLB.csv\n",
      "2025-10-01 19:56:19,673, 4121356139.py, 10, INFO, Reading file: ../../05_src/data/prices_csv/stocks/IPGP.csv\n",
      "2025-10-01 19:56:19,690, 4121356139.py, 10, INFO, Reading file: ../../05_src/data/prices_csv/stocks/SBR.csv\n",
      "2025-10-01 19:56:19,717, 4121356139.py, 10, INFO, Reading file: ../../05_src/data/prices_csv/stocks/VLGEA.csv\n",
      "2025-10-01 19:56:19,750, 4121356139.py, 10, INFO, Reading file: ../../05_src/data/prices_csv/stocks/OXY.csv\n",
      "2025-10-01 19:56:19,775, 4121356139.py, 10, INFO, Reading file: ../../05_src/data/prices_csv/stocks/SM.csv\n",
      "2025-10-01 19:56:19,790, 4121356139.py, 10, INFO, Reading file: ../../05_src/data/prices_csv/stocks/MDWD.csv\n",
      "2025-10-01 19:56:19,811, 4121356139.py, 10, INFO, Reading file: ../../05_src/data/prices_csv/stocks/PETQ.csv\n",
      "2025-10-01 19:56:19,819, 4121356139.py, 10, INFO, Reading file: ../../05_src/data/prices_csv/stocks/AEM.csv\n",
      "2025-10-01 19:56:19,861, 4121356139.py, 10, INFO, Reading file: ../../05_src/data/prices_csv/stocks/SBE.csv\n",
      "2025-10-01 19:56:19,871, 4121356139.py, 10, INFO, Reading file: ../../05_src/data/prices_csv/stocks/KAI.csv\n",
      "2025-10-01 19:56:19,884, 4121356139.py, 10, INFO, Reading file: ../../05_src/data/prices_csv/stocks/LIQT.csv\n",
      "2025-10-01 19:56:19,891, 4121356139.py, 10, INFO, Reading file: ../../05_src/data/prices_csv/stocks/MEDP.csv\n"
     ]
    }
   ],
   "source": [
    "import random\n",
    "\n",
    "stock_files = glob(os.path.join(os.getenv('SRC_DIR'), \"data/prices_csv/stocks/*.csv\"))\n",
    "\n",
    "random.seed(42)\n",
    "stock_files = random.sample(stock_files, 60)\n",
    "\n",
    "dt_list = []\n",
    "for s_file in stock_files:\n",
    "    _logs.info(f\"Reading file: {s_file}\")\n",
    "    dt = pd.read_csv(s_file).assign(\n",
    "        source = os.path.basename(s_file),\n",
    "        ticker = os.path.basename(s_file).replace('.csv', ''),\n",
    "        Date = lambda x: pd.to_datetime(x['Date'])\n",
    "    )\n",
    "    dt_list.append(dt)\n",
    "stock_prices = pd.concat(dt_list, axis = 0, ignore_index = True)\n",
    "\n"
   ]
  },
  {
   "cell_type": "markdown",
   "metadata": {},
   "source": [
    "Verify the structure of the `stock_prices` data:"
   ]
  },
  {
   "cell_type": "code",
   "execution_count": 5,
   "metadata": {},
   "outputs": [
    {
     "name": "stdout",
     "output_type": "stream",
     "text": [
      "<class 'pandas.core.frame.DataFrame'>\n",
      "RangeIndex: 244366 entries, 0 to 244365\n",
      "Data columns (total 9 columns):\n",
      " #   Column     Non-Null Count   Dtype         \n",
      "---  ------     --------------   -----         \n",
      " 0   Date       244366 non-null  datetime64[ns]\n",
      " 1   Open       244364 non-null  float64       \n",
      " 2   High       244364 non-null  float64       \n",
      " 3   Low        244364 non-null  float64       \n",
      " 4   Close      244364 non-null  float64       \n",
      " 5   Adj Close  244364 non-null  float64       \n",
      " 6   Volume     244364 non-null  float64       \n",
      " 7   source     244366 non-null  object        \n",
      " 8   ticker     244366 non-null  object        \n",
      "dtypes: datetime64[ns](1), float64(6), object(2)\n",
      "memory usage: 16.8+ MB\n"
     ]
    }
   ],
   "source": [
    "stock_prices.info()"
   ]
  },
  {
   "cell_type": "markdown",
   "metadata": {},
   "source": [
    "We can subset our ticker data set using standard indexing techniques. A good reference for this type of data manipulation is Panda's [Documentation](https://pandas.pydata.org/docs/user_guide/indexing.html#indexing-and-selecting-data) and [Cookbook](https://pandas.pydata.org/docs/user_guide/cookbook.html#cookbook-selection)."
   ]
  },
  {
   "cell_type": "markdown",
   "metadata": {},
   "source": [
    "From the subset data frame, select one column and convert to list."
   ]
  },
  {
   "cell_type": "code",
   "execution_count": 6,
   "metadata": {},
   "outputs": [
    {
     "data": {
      "text/plain": [
       "['PQG',\n",
       " 'BFIN',\n",
       " 'NXN',\n",
       " 'YMAB',\n",
       " 'BSGM',\n",
       " 'VGI',\n",
       " 'CCI',\n",
       " 'NAZ',\n",
       " 'CFFI',\n",
       " 'DEAC',\n",
       " 'WOW',\n",
       " 'HFFG',\n",
       " 'SSY',\n",
       " 'SGRY',\n",
       " 'THCA',\n",
       " 'IMTE',\n",
       " 'HOV',\n",
       " 'NVIV',\n",
       " 'GPK',\n",
       " 'NEV',\n",
       " 'FLT',\n",
       " 'RFM',\n",
       " 'KSM',\n",
       " 'RCMT',\n",
       " 'MDC',\n",
       " 'TY',\n",
       " 'PIC',\n",
       " 'CEQP',\n",
       " 'QRTEA',\n",
       " 'ATEX',\n",
       " 'GNUS',\n",
       " 'CTAA',\n",
       " 'AQN',\n",
       " 'PFSW',\n",
       " 'GLG',\n",
       " 'PXLW',\n",
       " 'AGS',\n",
       " 'NMRK',\n",
       " 'RAVN',\n",
       " 'MMYT',\n",
       " 'FTSI',\n",
       " 'CSCO',\n",
       " 'GRFS',\n",
       " 'OPP',\n",
       " 'ATLC',\n",
       " 'JMIA',\n",
       " 'LACQU',\n",
       " 'DLB',\n",
       " 'IPGP',\n",
       " 'SBR',\n",
       " 'VLGEA',\n",
       " 'OXY',\n",
       " 'SM',\n",
       " 'MDWD',\n",
       " 'PETQ',\n",
       " 'AEM',\n",
       " 'SBE',\n",
       " 'KAI',\n",
       " 'LIQT',\n",
       " 'MEDP']"
      ]
     },
     "execution_count": 6,
     "metadata": {},
     "output_type": "execute_result"
    }
   ],
   "source": [
    "select_tickers = stock_prices['ticker'].unique().tolist()\n",
    "select_tickers"
   ]
  },
  {
   "cell_type": "markdown",
   "metadata": {},
   "source": [
    "# Storing Data in CSV\n",
    "\n"
   ]
  },
  {
   "cell_type": "markdown",
   "metadata": {},
   "source": [
    "+ We have some data. How do we store it?\n",
    "+ We can compare two options, CSV and Parqruet, by measuring their performance:\n",
    "\n",
    "    - Time to save.\n",
    "    - Space required."
   ]
  },
  {
   "cell_type": "code",
   "execution_count": 7,
   "metadata": {},
   "outputs": [],
   "source": [
    "def get_dir_size(path='.'):\n",
    "    '''Returns the total size of files contained in path.'''\n",
    "    total = 0\n",
    "    with os.scandir(path) as it:\n",
    "        for entry in it:\n",
    "            if entry.is_file():\n",
    "                total += entry.stat().st_size\n",
    "            elif entry.is_dir():\n",
    "                total += get_dir_size(entry.path)\n",
    "    return total"
   ]
  },
  {
   "cell_type": "code",
   "execution_count": 8,
   "metadata": {},
   "outputs": [],
   "source": [
    "import time\n",
    "import shutil"
   ]
  },
  {
   "cell_type": "code",
   "execution_count": 9,
   "metadata": {},
   "outputs": [],
   "source": [
    "temp = os.getenv(\"TEMP_DATA\")\n",
    "csv_dir = os.path.join(temp, \"csv\")\n",
    "shutil.rmtree(csv_dir, ignore_errors=True)\n",
    "stock_csv = os.path.join(csv_dir, \"stock_px.csv\")\n",
    "os.makedirs(csv_dir, exist_ok=True)"
   ]
  },
  {
   "cell_type": "code",
   "execution_count": 10,
   "metadata": {},
   "outputs": [
    {
     "name": "stderr",
     "output_type": "stream",
     "text": [
      "2025-10-01 19:56:22,909, 473192941.py, 5, INFO, Writing data ((244366, 9)) to csv took 2.847682237625122 seconds.\n",
      "2025-10-01 19:56:22,910, 473192941.py, 6, INFO, CSV file size 26.319225 MB\n"
     ]
    }
   ],
   "source": [
    "\n",
    "start = time.time()\n",
    "stock_prices.to_csv(stock_csv, index = False)\n",
    "end = time.time()\n",
    "\n",
    "_logs.info(f'Writing data ({stock_prices.shape}) to csv took {end - start} seconds.')\n",
    "_logs.info(f'CSV file size { os.path.getsize(stock_csv)*1e-6 } MB')"
   ]
  },
  {
   "cell_type": "markdown",
   "metadata": {},
   "source": [
    "## Save Data to Parquet\n",
    "\n",
    "### Dask \n",
    "\n",
    "We can work with with large data sets and parquet files. In fact, recent versions of pandas support pyarrow data types and future versions will require a pyarrow backend. The pyarrow library is an interface between Python and the Appache Arrow project. The [parquet data format](https://parquet.apache.org/) and [Arrow](https://arrow.apache.org/docs/python/parquet.html) are projects of the Apache Foundation.\n",
    "\n",
    "However, Dask is much more than an interface to Arrow: Dask provides parallel and distributed computing on pandas-like dataframes. It is also relatively easy to use, bridging a gap between pandas and Spark. "
   ]
  },
  {
   "cell_type": "code",
   "execution_count": 12,
   "metadata": {},
   "outputs": [],
   "source": [
    "import dask.dataframe as dd\n",
    "\n",
    "parquet_dir = os.path.join(temp, \"parquet\")\n",
    "shutil.rmtree(parquet_dir, ignore_errors=True)\n",
    "os.makedirs(parquet_dir, exist_ok=True)"
   ]
  },
  {
   "cell_type": "code",
   "execution_count": 13,
   "metadata": {},
   "outputs": [
    {
     "name": "stderr",
     "output_type": "stream",
     "text": [
      "2025-10-01 19:56:46,763, 817812245.py, 7, INFO, Writing dd ((244366, 9)) to parquet took 0.9728789329528809 seconds.\n",
      "2025-10-01 19:56:46,764, 817812245.py, 8, INFO, Parquet file size 9.013254 MB\n"
     ]
    }
   ],
   "source": [
    "px_dd = dd.from_pandas(stock_prices, npartitions = len(select_tickers))\n",
    "\n",
    "start = time.time()\n",
    "px_dd.to_parquet(parquet_dir, engine = \"pyarrow\")\n",
    "end = time.time()\n",
    "\n",
    "_logs.info(f'Writing dd ({stock_prices.shape}) to parquet took {end - start} seconds.')\n",
    "_logs.info(f'Parquet file size { get_dir_size(parquet_dir)*1e-6 } MB')"
   ]
  },
  {
   "cell_type": "code",
   "execution_count": null,
   "metadata": {},
   "outputs": [],
   "source": []
  },
  {
   "cell_type": "markdown",
   "metadata": {},
   "source": [
    "### Parquet files and Dask Dataframes\n",
    "\n",
    "+ Parquet files are immutable: once written, they cannot be modified.\n",
    "+ Dask DataFrames are a useful implementation to manipulate data stored in parquets.\n",
    "+ Parquet and Dask are not the same: parquet is a file format that can be accessed by many applications and programming languages (Python, R, PowerBI, etc.), while Dask is a package in Python to work with large datasets using distributed computation.\n",
    "+ **Dask is not for everything** (see [Dask DataFrames Best Practices](https://docs.dask.org/en/stable/dataframe-best-practices.html)). \n",
    "\n",
    "    - Consider cases suchas small to large joins, where the small dataframe fits in memory, but the large one does not. \n",
    "    - If possible, use pandas: reduce, then use pandas.\n",
    "    - Pandas performance tips apply to Dask.\n",
    "    - Use the index: it is beneficial to have a well-defined index in Dask DataFrames, as it may speed up searching (filtering) the data. A one-dimensional index is allowed.\n",
    "    - Avoid (or minimize) full-data shuffling: indexing is an expensive operations. \n",
    "    - Some joins are more expensive than others. \n",
    "\n",
    "        * Not expensive:\n",
    "\n",
    "            - Join a Dask DataFrame with a pandas DataFrame.\n",
    "            - Join a Dask DataFrame with another Dask DataFrame of a single partition.\n",
    "            - Join Dask DataFrames along their indexes.\n",
    "\n",
    "        * Expensive:\n",
    "\n",
    "            - Join Dask DataFrames along columns that are not their index.\n"
   ]
  },
  {
   "cell_type": "markdown",
   "metadata": {},
   "source": [
    "# How do we store prices?\n",
    "\n",
    "+ We can store our data as a single blob. This can be difficult to maintain, especially because parquet files are immutable.\n",
    "+ Strategy: organize data files by ticker and date. Update only latest month.\n",
    "\n"
   ]
  },
  {
   "cell_type": "code",
   "execution_count": 14,
   "metadata": {},
   "outputs": [],
   "source": [
    "# CLean up before start\n",
    "PRICE_DATA = os.getenv(\"PRICE_DATA\")\n",
    "import shutil\n",
    "if os.path.exists(PRICE_DATA):\n",
    "    shutil.rmtree(PRICE_DATA)"
   ]
  },
  {
   "cell_type": "code",
   "execution_count": 15,
   "metadata": {},
   "outputs": [
    {
     "data": {
      "text/plain": [
       "Index(['Date', 'Open', 'High', 'Low', 'Close', 'Adj Close', 'Volume', 'source',\n",
       "       'ticker'],\n",
       "      dtype='object')"
      ]
     },
     "execution_count": 15,
     "metadata": {},
     "output_type": "execute_result"
    }
   ],
   "source": [
    "stock_prices.columns"
   ]
  },
  {
   "cell_type": "code",
   "execution_count": 17,
   "metadata": {},
   "outputs": [],
   "source": [
    "for ticker in stock_prices['ticker'].unique():\n",
    "    ticker_dt = stock_prices[stock_prices['ticker'] == ticker]\n",
    "    ticker_dt = ticker_dt.assign(Year = ticker_dt.Date.dt.year)\n",
    "    for yr in ticker_dt['Year'].unique():\n",
    "        yr_dd = dd.from_pandas(ticker_dt[ticker_dt['Year'] == yr],2)\n",
    "        yr_path = os.path.join(PRICE_DATA, ticker, f\"{ticker}_{yr}\")\n",
    "        os.makedirs(os.path.dirname(yr_path), exist_ok=True)\n",
    "        yr_dd.to_parquet(yr_path, engine = \"pyarrow\")\n",
    "    "
   ]
  },
  {
   "cell_type": "markdown",
   "metadata": {},
   "source": [
    "Why would we want to store data this way?\n",
    "\n",
    "+ Easier to maintain. We do not update old data, only recent data.\n",
    "+ We can also access all files as follows."
   ]
  },
  {
   "cell_type": "markdown",
   "metadata": {},
   "source": [
    "# Load, Transform and Save "
   ]
  },
  {
   "cell_type": "markdown",
   "metadata": {},
   "source": [
    "## Load\n",
    "\n",
    "+ Parquet files can be read individually or as a collection.\n",
    "+ `dd.read_parquet()` can take a list (collection) of files as input.\n",
    "+ Use `glob` to get the collection of files."
   ]
  },
  {
   "cell_type": "code",
   "execution_count": 18,
   "metadata": {},
   "outputs": [],
   "source": [
    "from glob import glob\n",
    "\n",
    "parquet_files = glob(os.path.join(PRICE_DATA, \"**/*.parquet\"), recursive = True)\n",
    "dd_px = dd.read_parquet(parquet_files).set_index(\"ticker\")"
   ]
  },
  {
   "cell_type": "markdown",
   "metadata": {},
   "source": [
    "## Transform\n",
    "\n",
    "+ This transformation step will create a *Features* data set. In our case, features will be stock returns (we obtained prices).\n",
    "+ Dask dataframes work like pandas dataframes: in particular, we can perform groupby and apply operations.\n",
    "+ Notice the use of [an anonymous (lambda) function](https://realpython.com/python-lambda/) in the apply statement."
   ]
  },
  {
   "cell_type": "code",
   "execution_count": 19,
   "metadata": {},
   "outputs": [
    {
     "name": "stderr",
     "output_type": "stream",
     "text": [
      "/tmp/ipykernel_22387/102405636.py:1: UserWarning: `meta` is not specified, inferred from partial data.\n",
      "Please provide `meta` if the result is unexpected.\n",
      "  Before: .apply(func)\n",
      "  After:  .apply(func, meta={'x': 'f8', 'y': 'f8'}) for dataframe result\n",
      "  or:     .apply(func, meta=('x', 'f8'))            for series result\n",
      "\n",
      "  dd_shift = dd_px.groupby('ticker', group_keys=False).apply(\n"
     ]
    }
   ],
   "source": [
    "dd_shift = dd_px.groupby('ticker', group_keys=False).apply(\n",
    "    lambda x: x.assign(Close_lag_1 = x['Close'].shift(1))\n",
    ")"
   ]
  },
  {
   "cell_type": "code",
   "execution_count": 20,
   "metadata": {},
   "outputs": [],
   "source": [
    "dd_rets = dd_shift.assign(\n",
    "    Returns = lambda x: x['Close']/x['Close_lag_1'] - 1\n",
    ")"
   ]
  },
  {
   "cell_type": "markdown",
   "metadata": {},
   "source": [
    "## Lazy Exection\n",
    "\n",
    "What does `dd_rets` contain?"
   ]
  },
  {
   "cell_type": "code",
   "execution_count": 21,
   "metadata": {},
   "outputs": [
    {
     "data": {
      "text/html": [
       "<div><strong>Dask DataFrame Structure:</strong></div>\n",
       "<table border=\"1\" class=\"dataframe\">\n",
       "  <thead>\n",
       "    <tr style=\"text-align: right;\">\n",
       "      <th></th>\n",
       "      <th>Date</th>\n",
       "      <th>Open</th>\n",
       "      <th>High</th>\n",
       "      <th>Low</th>\n",
       "      <th>Close</th>\n",
       "      <th>Adj Close</th>\n",
       "      <th>Volume</th>\n",
       "      <th>source</th>\n",
       "      <th>Year</th>\n",
       "      <th>Close_lag_1</th>\n",
       "      <th>Returns</th>\n",
       "    </tr>\n",
       "    <tr>\n",
       "      <th>npartitions=60</th>\n",
       "      <th></th>\n",
       "      <th></th>\n",
       "      <th></th>\n",
       "      <th></th>\n",
       "      <th></th>\n",
       "      <th></th>\n",
       "      <th></th>\n",
       "      <th></th>\n",
       "      <th></th>\n",
       "      <th></th>\n",
       "      <th></th>\n",
       "    </tr>\n",
       "  </thead>\n",
       "  <tbody>\n",
       "    <tr>\n",
       "      <th>AEM</th>\n",
       "      <td>datetime64[ns]</td>\n",
       "      <td>float64</td>\n",
       "      <td>float64</td>\n",
       "      <td>float64</td>\n",
       "      <td>float64</td>\n",
       "      <td>float64</td>\n",
       "      <td>float64</td>\n",
       "      <td>string</td>\n",
       "      <td>int32</td>\n",
       "      <td>float64</td>\n",
       "      <td>float64</td>\n",
       "    </tr>\n",
       "    <tr>\n",
       "      <th>AGS</th>\n",
       "      <td>...</td>\n",
       "      <td>...</td>\n",
       "      <td>...</td>\n",
       "      <td>...</td>\n",
       "      <td>...</td>\n",
       "      <td>...</td>\n",
       "      <td>...</td>\n",
       "      <td>...</td>\n",
       "      <td>...</td>\n",
       "      <td>...</td>\n",
       "      <td>...</td>\n",
       "    </tr>\n",
       "    <tr>\n",
       "      <th>...</th>\n",
       "      <td>...</td>\n",
       "      <td>...</td>\n",
       "      <td>...</td>\n",
       "      <td>...</td>\n",
       "      <td>...</td>\n",
       "      <td>...</td>\n",
       "      <td>...</td>\n",
       "      <td>...</td>\n",
       "      <td>...</td>\n",
       "      <td>...</td>\n",
       "      <td>...</td>\n",
       "    </tr>\n",
       "    <tr>\n",
       "      <th>YMAB</th>\n",
       "      <td>...</td>\n",
       "      <td>...</td>\n",
       "      <td>...</td>\n",
       "      <td>...</td>\n",
       "      <td>...</td>\n",
       "      <td>...</td>\n",
       "      <td>...</td>\n",
       "      <td>...</td>\n",
       "      <td>...</td>\n",
       "      <td>...</td>\n",
       "      <td>...</td>\n",
       "    </tr>\n",
       "    <tr>\n",
       "      <th>YMAB</th>\n",
       "      <td>...</td>\n",
       "      <td>...</td>\n",
       "      <td>...</td>\n",
       "      <td>...</td>\n",
       "      <td>...</td>\n",
       "      <td>...</td>\n",
       "      <td>...</td>\n",
       "      <td>...</td>\n",
       "      <td>...</td>\n",
       "      <td>...</td>\n",
       "      <td>...</td>\n",
       "    </tr>\n",
       "  </tbody>\n",
       "</table>\n",
       "<div>Dask Name: assign, 9 expressions</div>"
      ],
      "text/plain": [
       "Dask DataFrame Structure:\n",
       "                          Date     Open     High      Low    Close Adj Close   Volume  source   Year Close_lag_1  Returns\n",
       "npartitions=60                                                                                                           \n",
       "AEM             datetime64[ns]  float64  float64  float64  float64   float64  float64  string  int32     float64  float64\n",
       "AGS                        ...      ...      ...      ...      ...       ...      ...     ...    ...         ...      ...\n",
       "...                        ...      ...      ...      ...      ...       ...      ...     ...    ...         ...      ...\n",
       "YMAB                       ...      ...      ...      ...      ...       ...      ...     ...    ...         ...      ...\n",
       "YMAB                       ...      ...      ...      ...      ...       ...      ...     ...    ...         ...      ...\n",
       "Dask Name: assign, 9 expressions\n",
       "Expr=Assign(frame=Assign(frame=GroupByApply(frame=SetIndex(frame=ReadParquetFSSpec(0377f4d), _other='ticker', options={}), observed=False, group_keys=False, func=<function <lambda> at 0x78337cc28860>, meta=<no_default>, args=(), kwargs={})))"
      ]
     },
     "execution_count": 21,
     "metadata": {},
     "output_type": "execute_result"
    }
   ],
   "source": [
    "dd_rets"
   ]
  },
  {
   "cell_type": "markdown",
   "metadata": {},
   "source": [
    "+ Dask is a lazy execution framework: commands will not execute until they are required. \n",
    "+ To trigger an execution in dask use `.compute()`."
   ]
  },
  {
   "cell_type": "code",
   "execution_count": 22,
   "metadata": {},
   "outputs": [
    {
     "data": {
      "text/html": [
       "<div>\n",
       "<style scoped>\n",
       "    .dataframe tbody tr th:only-of-type {\n",
       "        vertical-align: middle;\n",
       "    }\n",
       "\n",
       "    .dataframe tbody tr th {\n",
       "        vertical-align: top;\n",
       "    }\n",
       "\n",
       "    .dataframe thead th {\n",
       "        text-align: right;\n",
       "    }\n",
       "</style>\n",
       "<table border=\"1\" class=\"dataframe\">\n",
       "  <thead>\n",
       "    <tr style=\"text-align: right;\">\n",
       "      <th></th>\n",
       "      <th>Date</th>\n",
       "      <th>Open</th>\n",
       "      <th>High</th>\n",
       "      <th>Low</th>\n",
       "      <th>Close</th>\n",
       "      <th>Adj Close</th>\n",
       "      <th>Volume</th>\n",
       "      <th>source</th>\n",
       "      <th>Year</th>\n",
       "      <th>Close_lag_1</th>\n",
       "      <th>Returns</th>\n",
       "    </tr>\n",
       "    <tr>\n",
       "      <th>ticker</th>\n",
       "      <th></th>\n",
       "      <th></th>\n",
       "      <th></th>\n",
       "      <th></th>\n",
       "      <th></th>\n",
       "      <th></th>\n",
       "      <th></th>\n",
       "      <th></th>\n",
       "      <th></th>\n",
       "      <th></th>\n",
       "      <th></th>\n",
       "    </tr>\n",
       "  </thead>\n",
       "  <tbody>\n",
       "    <tr>\n",
       "      <th>AEM</th>\n",
       "      <td>1973-02-21</td>\n",
       "      <td>0.000000</td>\n",
       "      <td>3.875000</td>\n",
       "      <td>3.875000</td>\n",
       "      <td>3.875000</td>\n",
       "      <td>2.578557</td>\n",
       "      <td>22600.0</td>\n",
       "      <td>AEM.csv</td>\n",
       "      <td>1973</td>\n",
       "      <td>NaN</td>\n",
       "      <td>NaN</td>\n",
       "    </tr>\n",
       "    <tr>\n",
       "      <th>AEM</th>\n",
       "      <td>1973-02-22</td>\n",
       "      <td>0.000000</td>\n",
       "      <td>3.875000</td>\n",
       "      <td>3.875000</td>\n",
       "      <td>3.875000</td>\n",
       "      <td>2.578557</td>\n",
       "      <td>56100.0</td>\n",
       "      <td>AEM.csv</td>\n",
       "      <td>1973</td>\n",
       "      <td>3.875000</td>\n",
       "      <td>0.000000</td>\n",
       "    </tr>\n",
       "    <tr>\n",
       "      <th>AEM</th>\n",
       "      <td>1973-02-23</td>\n",
       "      <td>0.000000</td>\n",
       "      <td>3.875000</td>\n",
       "      <td>3.875000</td>\n",
       "      <td>3.875000</td>\n",
       "      <td>2.578557</td>\n",
       "      <td>42200.0</td>\n",
       "      <td>AEM.csv</td>\n",
       "      <td>1973</td>\n",
       "      <td>3.875000</td>\n",
       "      <td>0.000000</td>\n",
       "    </tr>\n",
       "    <tr>\n",
       "      <th>AEM</th>\n",
       "      <td>1973-02-26</td>\n",
       "      <td>0.000000</td>\n",
       "      <td>3.750000</td>\n",
       "      <td>3.750000</td>\n",
       "      <td>3.750000</td>\n",
       "      <td>2.495378</td>\n",
       "      <td>30300.0</td>\n",
       "      <td>AEM.csv</td>\n",
       "      <td>1973</td>\n",
       "      <td>3.875000</td>\n",
       "      <td>-0.032258</td>\n",
       "    </tr>\n",
       "    <tr>\n",
       "      <th>AEM</th>\n",
       "      <td>1973-02-27</td>\n",
       "      <td>0.000000</td>\n",
       "      <td>3.750000</td>\n",
       "      <td>3.750000</td>\n",
       "      <td>3.750000</td>\n",
       "      <td>2.495378</td>\n",
       "      <td>16300.0</td>\n",
       "      <td>AEM.csv</td>\n",
       "      <td>1973</td>\n",
       "      <td>3.750000</td>\n",
       "      <td>0.000000</td>\n",
       "    </tr>\n",
       "    <tr>\n",
       "      <th>...</th>\n",
       "      <td>...</td>\n",
       "      <td>...</td>\n",
       "      <td>...</td>\n",
       "      <td>...</td>\n",
       "      <td>...</td>\n",
       "      <td>...</td>\n",
       "      <td>...</td>\n",
       "      <td>...</td>\n",
       "      <td>...</td>\n",
       "      <td>...</td>\n",
       "      <td>...</td>\n",
       "    </tr>\n",
       "    <tr>\n",
       "      <th>YMAB</th>\n",
       "      <td>2020-03-26</td>\n",
       "      <td>21.020000</td>\n",
       "      <td>23.090000</td>\n",
       "      <td>20.309999</td>\n",
       "      <td>22.299999</td>\n",
       "      <td>22.299999</td>\n",
       "      <td>162800.0</td>\n",
       "      <td>YMAB.csv</td>\n",
       "      <td>2020</td>\n",
       "      <td>20.840000</td>\n",
       "      <td>0.070058</td>\n",
       "    </tr>\n",
       "    <tr>\n",
       "      <th>YMAB</th>\n",
       "      <td>2020-03-27</td>\n",
       "      <td>21.400000</td>\n",
       "      <td>22.639999</td>\n",
       "      <td>20.600000</td>\n",
       "      <td>21.000000</td>\n",
       "      <td>21.000000</td>\n",
       "      <td>166200.0</td>\n",
       "      <td>YMAB.csv</td>\n",
       "      <td>2020</td>\n",
       "      <td>22.299999</td>\n",
       "      <td>-0.058296</td>\n",
       "    </tr>\n",
       "    <tr>\n",
       "      <th>YMAB</th>\n",
       "      <td>2020-03-30</td>\n",
       "      <td>21.559999</td>\n",
       "      <td>23.750000</td>\n",
       "      <td>20.620001</td>\n",
       "      <td>23.129999</td>\n",
       "      <td>23.129999</td>\n",
       "      <td>292500.0</td>\n",
       "      <td>YMAB.csv</td>\n",
       "      <td>2020</td>\n",
       "      <td>21.000000</td>\n",
       "      <td>0.101429</td>\n",
       "    </tr>\n",
       "    <tr>\n",
       "      <th>YMAB</th>\n",
       "      <td>2020-03-31</td>\n",
       "      <td>24.370001</td>\n",
       "      <td>26.299999</td>\n",
       "      <td>22.709999</td>\n",
       "      <td>26.100000</td>\n",
       "      <td>26.100000</td>\n",
       "      <td>371700.0</td>\n",
       "      <td>YMAB.csv</td>\n",
       "      <td>2020</td>\n",
       "      <td>23.129999</td>\n",
       "      <td>0.128405</td>\n",
       "    </tr>\n",
       "    <tr>\n",
       "      <th>YMAB</th>\n",
       "      <td>2020-04-01</td>\n",
       "      <td>24.830000</td>\n",
       "      <td>25.969999</td>\n",
       "      <td>23.010000</td>\n",
       "      <td>24.750000</td>\n",
       "      <td>24.750000</td>\n",
       "      <td>263100.0</td>\n",
       "      <td>YMAB.csv</td>\n",
       "      <td>2020</td>\n",
       "      <td>26.100000</td>\n",
       "      <td>-0.051724</td>\n",
       "    </tr>\n",
       "  </tbody>\n",
       "</table>\n",
       "<p>244366 rows × 11 columns</p>\n",
       "</div>"
      ],
      "text/plain": [
       "             Date       Open       High        Low      Close  Adj Close  \\\n",
       "ticker                                                                     \n",
       "AEM    1973-02-21   0.000000   3.875000   3.875000   3.875000   2.578557   \n",
       "AEM    1973-02-22   0.000000   3.875000   3.875000   3.875000   2.578557   \n",
       "AEM    1973-02-23   0.000000   3.875000   3.875000   3.875000   2.578557   \n",
       "AEM    1973-02-26   0.000000   3.750000   3.750000   3.750000   2.495378   \n",
       "AEM    1973-02-27   0.000000   3.750000   3.750000   3.750000   2.495378   \n",
       "...           ...        ...        ...        ...        ...        ...   \n",
       "YMAB   2020-03-26  21.020000  23.090000  20.309999  22.299999  22.299999   \n",
       "YMAB   2020-03-27  21.400000  22.639999  20.600000  21.000000  21.000000   \n",
       "YMAB   2020-03-30  21.559999  23.750000  20.620001  23.129999  23.129999   \n",
       "YMAB   2020-03-31  24.370001  26.299999  22.709999  26.100000  26.100000   \n",
       "YMAB   2020-04-01  24.830000  25.969999  23.010000  24.750000  24.750000   \n",
       "\n",
       "          Volume    source  Year  Close_lag_1   Returns  \n",
       "ticker                                                   \n",
       "AEM      22600.0   AEM.csv  1973          NaN       NaN  \n",
       "AEM      56100.0   AEM.csv  1973     3.875000  0.000000  \n",
       "AEM      42200.0   AEM.csv  1973     3.875000  0.000000  \n",
       "AEM      30300.0   AEM.csv  1973     3.875000 -0.032258  \n",
       "AEM      16300.0   AEM.csv  1973     3.750000  0.000000  \n",
       "...          ...       ...   ...          ...       ...  \n",
       "YMAB    162800.0  YMAB.csv  2020    20.840000  0.070058  \n",
       "YMAB    166200.0  YMAB.csv  2020    22.299999 -0.058296  \n",
       "YMAB    292500.0  YMAB.csv  2020    21.000000  0.101429  \n",
       "YMAB    371700.0  YMAB.csv  2020    23.129999  0.128405  \n",
       "YMAB    263100.0  YMAB.csv  2020    26.100000 -0.051724  \n",
       "\n",
       "[244366 rows x 11 columns]"
      ]
     },
     "execution_count": 22,
     "metadata": {},
     "output_type": "execute_result"
    }
   ],
   "source": [
    "dd_rets.compute()"
   ]
  },
  {
   "cell_type": "markdown",
   "metadata": {},
   "source": [
    "## Save\n",
    "\n",
    "+ Apply transformations to calculate daily returns\n",
    "+ Store the enriched data, the silver dataset, in a new directory.\n",
    "+ Should we keep the same namespace? All columns?"
   ]
  },
  {
   "cell_type": "code",
   "execution_count": 23,
   "metadata": {},
   "outputs": [],
   "source": [
    "# CLean up before save\n",
    "FEATURES_DATA = os.getenv(\"FEATURES_DATA\")\n",
    "if os.path.exists(FEATURES_DATA):\n",
    "    shutil.rmtree(FEATURES_DATA)\n",
    "dd_rets.to_parquet(FEATURES_DATA, overwrite = True)"
   ]
  },
  {
   "cell_type": "markdown",
   "metadata": {},
   "source": [
    "# Optional: from Jupyter to Command Line\n",
    "\n",
    "+ We have drafted our code in a Jupyter Notebook. \n",
    "+ Finalized code should be written in Python modules.\n",
    "\n",
    "## Object Oriented vs Functional Programming\n",
    "\n",
    "+ We can use classes to keep parameters and functions together.\n",
    "+ We *could* use Object Oriented Programming, but parallelization of data manipulation and modelling tasks benefit from *Functional Programming*.\n",
    "+ An Idea: \n",
    "\n",
    "    - [Data Oriented Programming](https://blog.klipse.tech/dop/2022/06/22/principles-of-dop.html).\n",
    "    - Use the class to bundle together parameters and functions.\n",
    "    - Use stateless operations and treat all data objects as immutable (we do not modify them, we overwrite them).\n",
    "    - Take advantage of [`@staticmethod`](https://realpython.com/instance-class-and-static-methods-demystified/).\n",
    "\n",
    "The code is in `./05_src/stock_prices/data_manager.py`."
   ]
  },
  {
   "cell_type": "markdown",
   "metadata": {},
   "source": [
    "Our original design was:\n",
    "\n",
    "![](./images/02_target_pipeline_manager.png)\n",
    "\n"
   ]
  },
  {
   "cell_type": "code",
   "execution_count": 24,
   "metadata": {},
   "outputs": [],
   "source": [
    "from stock_prices.data_manager import DataManager\n",
    "dm = DataManager()"
   ]
  },
  {
   "cell_type": "markdown",
   "metadata": {},
   "source": [
    "Download all prices."
   ]
  },
  {
   "cell_type": "code",
   "execution_count": 25,
   "metadata": {},
   "outputs": [
    {
     "name": "stderr",
     "output_type": "stream",
     "text": [
      "2025-10-01 20:04:00,689, data_manager.py, 53, INFO, Processing sample of tickers\n",
      "2025-10-01 20:04:00,691, data_manager.py, 64, INFO, Getting file list from ../../05_src/data/prices_csv/\n",
      "2025-10-01 20:04:00,709, data_manager.py, 66, INFO, Found 7850 files in ../../05_src/data/prices/\n",
      "2025-10-01 20:04:00,709, data_manager.py, 74, INFO, Selecting sample of files\n",
      "2025-10-01 20:04:00,710, data_manager.py, 80, INFO, Selected 30 files\n",
      "2025-10-01 20:04:00,711, data_manager.py, 90, INFO, Processing file ../../05_src/data/prices_csv/stocks/WES.csv\n",
      "2025-10-01 20:04:00,711, data_manager.py, 118, INFO, Reading file: ../../05_src/data/prices_csv/stocks/WES.csv\n",
      "2025-10-01 20:04:00,725, data_manager.py, 101, INFO, Saving data by year\n",
      "2025-10-01 20:04:00,926, data_manager.py, 90, INFO, Processing file ../../05_src/data/prices_csv/etfs/YANG.csv\n",
      "2025-10-01 20:04:00,926, data_manager.py, 118, INFO, Reading file: ../../05_src/data/prices_csv/etfs/YANG.csv\n",
      "2025-10-01 20:04:00,935, data_manager.py, 101, INFO, Saving data by year\n",
      "2025-10-01 20:04:01,172, data_manager.py, 90, INFO, Processing file ../../05_src/data/prices_csv/stocks/NXN.csv\n",
      "2025-10-01 20:04:01,172, data_manager.py, 118, INFO, Reading file: ../../05_src/data/prices_csv/stocks/NXN.csv\n",
      "2025-10-01 20:04:01,192, data_manager.py, 101, INFO, Saving data by year\n",
      "2025-10-01 20:04:01,849, data_manager.py, 90, INFO, Processing file ../../05_src/data/prices_csv/stocks/EW.csv\n",
      "2025-10-01 20:04:01,851, data_manager.py, 118, INFO, Reading file: ../../05_src/data/prices_csv/stocks/EW.csv\n",
      "2025-10-01 20:04:01,896, data_manager.py, 101, INFO, Saving data by year\n",
      "2025-10-01 20:04:02,532, data_manager.py, 90, INFO, Processing file ../../05_src/data/prices_csv/stocks/FTCH.csv\n",
      "2025-10-01 20:04:02,532, data_manager.py, 118, INFO, Reading file: ../../05_src/data/prices_csv/stocks/FTCH.csv\n",
      "2025-10-01 20:04:02,537, data_manager.py, 101, INFO, Saving data by year\n",
      "2025-10-01 20:04:02,586, data_manager.py, 90, INFO, Processing file ../../05_src/data/prices_csv/stocks/SGMS.csv\n",
      "2025-10-01 20:04:02,587, data_manager.py, 118, INFO, Reading file: ../../05_src/data/prices_csv/stocks/SGMS.csv\n",
      "2025-10-01 20:04:02,614, data_manager.py, 101, INFO, Saving data by year\n",
      "2025-10-01 20:04:03,289, data_manager.py, 90, INFO, Processing file ../../05_src/data/prices_csv/stocks/CO.csv\n",
      "2025-10-01 20:04:03,290, data_manager.py, 118, INFO, Reading file: ../../05_src/data/prices_csv/stocks/CO.csv\n",
      "2025-10-01 20:04:03,301, data_manager.py, 101, INFO, Saving data by year\n",
      "2025-10-01 20:04:03,580, data_manager.py, 90, INFO, Processing file ../../05_src/data/prices_csv/etfs/BSCL.csv\n",
      "2025-10-01 20:04:03,581, data_manager.py, 118, INFO, Reading file: ../../05_src/data/prices_csv/etfs/BSCL.csv\n",
      "2025-10-01 20:04:03,597, data_manager.py, 101, INFO, Saving data by year\n",
      "2025-10-01 20:04:03,797, data_manager.py, 90, INFO, Processing file ../../05_src/data/prices_csv/stocks/IP.csv\n",
      "2025-10-01 20:04:03,798, data_manager.py, 118, INFO, Reading file: ../../05_src/data/prices_csv/stocks/IP.csv\n",
      "2025-10-01 20:04:03,868, data_manager.py, 101, INFO, Saving data by year\n",
      "2025-10-01 20:04:05,237, data_manager.py, 90, INFO, Processing file ../../05_src/data/prices_csv/stocks/BMA.csv\n",
      "2025-10-01 20:04:05,240, data_manager.py, 118, INFO, Reading file: ../../05_src/data/prices_csv/stocks/BMA.csv\n",
      "2025-10-01 20:04:05,261, data_manager.py, 101, INFO, Saving data by year\n",
      "2025-10-01 20:04:05,745, data_manager.py, 90, INFO, Processing file ../../05_src/data/prices_csv/stocks/RMBS.csv\n",
      "2025-10-01 20:04:05,746, data_manager.py, 118, INFO, Reading file: ../../05_src/data/prices_csv/stocks/RMBS.csv\n",
      "2025-10-01 20:04:05,766, data_manager.py, 101, INFO, Saving data by year\n",
      "2025-10-01 20:04:06,237, data_manager.py, 90, INFO, Processing file ../../05_src/data/prices_csv/stocks/COWNL.csv\n",
      "2025-10-01 20:04:06,238, data_manager.py, 118, INFO, Reading file: ../../05_src/data/prices_csv/stocks/COWNL.csv\n",
      "2025-10-01 20:04:06,245, data_manager.py, 101, INFO, Saving data by year\n",
      "2025-10-01 20:04:06,302, data_manager.py, 90, INFO, Processing file ../../05_src/data/prices_csv/stocks/USFD.csv\n",
      "2025-10-01 20:04:06,303, data_manager.py, 118, INFO, Reading file: ../../05_src/data/prices_csv/stocks/USFD.csv\n",
      "2025-10-01 20:04:06,311, data_manager.py, 101, INFO, Saving data by year\n",
      "2025-10-01 20:04:06,413, data_manager.py, 90, INFO, Processing file ../../05_src/data/prices_csv/stocks/CMCSA.csv\n",
      "2025-10-01 20:04:06,414, data_manager.py, 118, INFO, Reading file: ../../05_src/data/prices_csv/stocks/CMCSA.csv\n",
      "2025-10-01 20:04:06,439, data_manager.py, 101, INFO, Saving data by year\n",
      "2025-10-01 20:04:07,404, data_manager.py, 90, INFO, Processing file ../../05_src/data/prices_csv/stocks/HQH.csv\n",
      "2025-10-01 20:04:07,405, data_manager.py, 118, INFO, Reading file: ../../05_src/data/prices_csv/stocks/HQH.csv\n",
      "2025-10-01 20:04:07,425, data_manager.py, 101, INFO, Saving data by year\n",
      "2025-10-01 20:04:08,038, data_manager.py, 90, INFO, Processing file ../../05_src/data/prices_csv/etfs/ERY.csv\n",
      "2025-10-01 20:04:08,038, data_manager.py, 118, INFO, Reading file: ../../05_src/data/prices_csv/etfs/ERY.csv\n",
      "2025-10-01 20:04:08,053, data_manager.py, 101, INFO, Saving data by year\n",
      "2025-10-01 20:04:08,276, data_manager.py, 90, INFO, Processing file ../../05_src/data/prices_csv/stocks/RILYH.csv\n",
      "2025-10-01 20:04:08,277, data_manager.py, 118, INFO, Reading file: ../../05_src/data/prices_csv/stocks/RILYH.csv\n",
      "2025-10-01 20:04:08,284, data_manager.py, 101, INFO, Saving data by year\n",
      "2025-10-01 20:04:08,344, data_manager.py, 90, INFO, Processing file ../../05_src/data/prices_csv/stocks/HSDT.csv\n",
      "2025-10-01 20:04:08,345, data_manager.py, 118, INFO, Reading file: ../../05_src/data/prices_csv/stocks/HSDT.csv\n",
      "2025-10-01 20:04:08,355, data_manager.py, 101, INFO, Saving data by year\n",
      "2025-10-01 20:04:08,484, data_manager.py, 90, INFO, Processing file ../../05_src/data/prices_csv/stocks/OR.csv\n",
      "2025-10-01 20:04:08,485, data_manager.py, 118, INFO, Reading file: ../../05_src/data/prices_csv/stocks/OR.csv\n",
      "2025-10-01 20:04:08,497, data_manager.py, 101, INFO, Saving data by year\n",
      "2025-10-01 20:04:08,600, data_manager.py, 90, INFO, Processing file ../../05_src/data/prices_csv/etfs/RFFC.csv\n",
      "2025-10-01 20:04:08,601, data_manager.py, 118, INFO, Reading file: ../../05_src/data/prices_csv/etfs/RFFC.csv\n",
      "2025-10-01 20:04:08,610, data_manager.py, 101, INFO, Saving data by year\n",
      "2025-10-01 20:04:08,699, data_manager.py, 90, INFO, Processing file ../../05_src/data/prices_csv/etfs/PGJ.csv\n",
      "2025-10-01 20:04:08,700, data_manager.py, 118, INFO, Reading file: ../../05_src/data/prices_csv/etfs/PGJ.csv\n",
      "2025-10-01 20:04:08,723, data_manager.py, 101, INFO, Saving data by year\n",
      "2025-10-01 20:04:09,059, data_manager.py, 90, INFO, Processing file ../../05_src/data/prices_csv/stocks/MPA.csv\n",
      "2025-10-01 20:04:09,060, data_manager.py, 118, INFO, Reading file: ../../05_src/data/prices_csv/stocks/MPA.csv\n",
      "2025-10-01 20:04:09,080, data_manager.py, 101, INFO, Saving data by year\n",
      "2025-10-01 20:04:09,791, data_manager.py, 90, INFO, Processing file ../../05_src/data/prices_csv/etfs/OUSM.csv\n",
      "2025-10-01 20:04:09,792, data_manager.py, 118, INFO, Reading file: ../../05_src/data/prices_csv/etfs/OUSM.csv\n",
      "2025-10-01 20:04:09,800, data_manager.py, 101, INFO, Saving data by year\n",
      "2025-10-01 20:04:09,866, data_manager.py, 90, INFO, Processing file ../../05_src/data/prices_csv/etfs/QMN.csv\n",
      "2025-10-01 20:04:09,866, data_manager.py, 118, INFO, Reading file: ../../05_src/data/prices_csv/etfs/QMN.csv\n",
      "2025-10-01 20:04:09,879, data_manager.py, 101, INFO, Saving data by year\n",
      "2025-10-01 20:04:10,021, data_manager.py, 90, INFO, Processing file ../../05_src/data/prices_csv/stocks/ARQT.csv\n",
      "2025-10-01 20:04:10,022, data_manager.py, 118, INFO, Reading file: ../../05_src/data/prices_csv/stocks/ARQT.csv\n",
      "2025-10-01 20:04:10,026, data_manager.py, 101, INFO, Saving data by year\n",
      "2025-10-01 20:04:10,045, data_manager.py, 90, INFO, Processing file ../../05_src/data/prices_csv/etfs/PSMG.csv\n",
      "2025-10-01 20:04:10,045, data_manager.py, 118, INFO, Reading file: ../../05_src/data/prices_csv/etfs/PSMG.csv\n",
      "2025-10-01 20:04:10,055, data_manager.py, 101, INFO, Saving data by year\n",
      "2025-10-01 20:04:10,120, data_manager.py, 90, INFO, Processing file ../../05_src/data/prices_csv/stocks/ONDK.csv\n",
      "2025-10-01 20:04:10,121, data_manager.py, 118, INFO, Reading file: ../../05_src/data/prices_csv/stocks/ONDK.csv\n",
      "2025-10-01 20:04:10,139, data_manager.py, 101, INFO, Saving data by year\n",
      "2025-10-01 20:04:10,293, data_manager.py, 90, INFO, Processing file ../../05_src/data/prices_csv/etfs/IDX.csv\n",
      "2025-10-01 20:04:10,294, data_manager.py, 118, INFO, Reading file: ../../05_src/data/prices_csv/etfs/IDX.csv\n",
      "2025-10-01 20:04:10,311, data_manager.py, 101, INFO, Saving data by year\n",
      "2025-10-01 20:04:10,692, data_manager.py, 90, INFO, Processing file ../../05_src/data/prices_csv/stocks/RFI.csv\n",
      "2025-10-01 20:04:10,697, data_manager.py, 118, INFO, Reading file: ../../05_src/data/prices_csv/stocks/RFI.csv\n",
      "2025-10-01 20:04:10,733, data_manager.py, 101, INFO, Saving data by year\n",
      "2025-10-01 20:04:11,680, data_manager.py, 90, INFO, Processing file ../../05_src/data/prices_csv/etfs/PSEP.csv\n",
      "2025-10-01 20:04:11,682, data_manager.py, 118, INFO, Reading file: ../../05_src/data/prices_csv/etfs/PSEP.csv\n",
      "2025-10-01 20:04:11,688, data_manager.py, 101, INFO, Saving data by year\n"
     ]
    }
   ],
   "source": [
    "dm.process_sample_files()"
   ]
  },
  {
   "cell_type": "markdown",
   "metadata": {},
   "source": [
    "Finally, add features to the data set and save to a *feature store*."
   ]
  },
  {
   "cell_type": "code",
   "execution_count": null,
   "metadata": {},
   "outputs": [
    {
     "name": "stderr",
     "output_type": "stream",
     "text": [
      "2025-10-01 20:04:11,756, data_manager.py, 131, INFO, Creating features data.\n",
      "2025-10-01 20:04:11,757, data_manager.py, 141, INFO, Loading price data from ../../05_src/data/prices/\n",
      "2025-10-01 20:04:12,063, data_manager.py, 150, INFO, Creating features\n",
      "/workspaces/production/01_materials/labs/../../05_src/stock_prices/data_manager.py:154: UserWarning: `meta` is not specified, inferred from partial data.\n",
      "Please provide `meta` if the result is unexpected.\n",
      "  Before: .apply(func)\n",
      "  After:  .apply(func, meta={'x': 'f8', 'y': 'f8'}) for dataframe result\n",
      "  or:     .apply(func, meta=('x', 'f8'))            for series result\n",
      "\n",
      "  .apply(\n",
      "2025-10-01 20:04:12,070, data_manager.py, 175, INFO, Saving features to ../../05_src/data/features/stock_features\n"
     ]
    }
   ],
   "source": [
    "dm.featurize()"
   ]
  }
 ],
 "metadata": {
  "kernelspec": {
   "display_name": "dsi_participant",
   "language": "python",
   "name": "python3"
  },
  "language_info": {
   "codemirror_mode": {
    "name": "ipython",
    "version": 3
   },
   "file_extension": ".py",
   "mimetype": "text/x-python",
   "name": "python",
   "nbconvert_exporter": "python",
   "pygments_lexer": "ipython3",
   "version": "3.13.7"
  }
 },
 "nbformat": 4,
 "nbformat_minor": 2
}
