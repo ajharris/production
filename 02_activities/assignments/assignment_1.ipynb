{
 "cells": [
  {
   "cell_type": "markdown",
   "metadata": {},
   "source": [
    "# Working with parquet files\n",
    "\n",
    "## Objective\n",
    "\n",
    "+ In this assignment, we will use the data downloaded with the module `data_manager` to create features.\n",
    "\n",
    "(11 pts total)\n",
    "\n",
    "## Prerequisites\n",
    "\n",
    "+ This notebook assumes that price data is available to you in the environment variable `PRICE_DATA`. If you have not done so, then execute the notebook `01_materials/labs/2_data_engineering.ipynb` to create this data set.\n"
   ]
  },
  {
   "cell_type": "markdown",
   "metadata": {},
   "source": [
    "+ Load the environment variables using dotenv. (1 pt)"
   ]
  },
  {
   "cell_type": "code",
   "execution_count": 9,
   "metadata": {},
   "outputs": [
    {
     "name": "stdout",
     "output_type": "stream",
     "text": [
      "The dotenv extension is already loaded. To reload it, use:\n",
      "  %reload_ext dotenv\n"
     ]
    }
   ],
   "source": [
    "%load_ext dotenv\n",
    "%dotenv\n",
    "\n"
   ]
  },
  {
   "cell_type": "code",
   "execution_count": 10,
   "metadata": {},
   "outputs": [],
   "source": [
    "import dask.dataframe as dd"
   ]
  },
  {
   "cell_type": "markdown",
   "metadata": {},
   "source": [
    "+ Load the environment variable `PRICE_DATA`.\n",
    "+ Use [glob](https://docs.python.org/3/library/glob.html) to find the path of all parquet files in the directory `PRICE_DATA`.\n",
    "\n",
    "(1pt)"
   ]
  },
  {
   "cell_type": "code",
   "execution_count": 11,
   "metadata": {},
   "outputs": [],
   "source": [
    "import os\n",
    "from glob import glob\n",
    "\n",
    "price_data = os.environ['PRICE_DATA']\n",
    "parquet_files = glob(os.path.join(price_data, '**', '*.parquet'), recursive=True)\n"
   ]
  },
  {
   "cell_type": "markdown",
   "metadata": {},
   "source": [
    "For each ticker and using Dask, do the following:\n",
    "\n",
    "+ Add lags for variables Close and Adj_Close.\n",
    "+ Add returns based on Close:\n",
    "    \n",
    "    - `returns`: (Close / Close_lag_1) - 1\n",
    "\n",
    "+ Add the following range: \n",
    "\n",
    "    - `hi_lo_range`: this is the day's High minus Low.\n",
    "\n",
    "+ Assign the result to `dd_feat`.\n",
    "\n",
    "(4 pt)"
   ]
  },
  {
   "cell_type": "code",
   "execution_count": 29,
   "metadata": {},
   "outputs": [
    {
     "name": "stderr",
     "output_type": "stream",
     "text": [
      "/tmp/ipykernel_3091/1081290869.py:2: UserWarning: `meta` is not specified, inferred from partial data.\n",
      "Please provide `meta` if the result is unexpected.\n",
      "  Before: .shift(func)\n",
      "  After:  .shift(func, meta={'x': 'f8', 'y': 'f8'}) for dataframe result\n",
      "  or:     .shift(func, meta=('x', 'f8'))            for series result\n",
      "\n",
      "  df['Close_lag_1'] = df.groupby('ticker')['Close'].shift(1)\n",
      "/tmp/ipykernel_3091/1081290869.py:3: UserWarning: `meta` is not specified, inferred from partial data.\n",
      "Please provide `meta` if the result is unexpected.\n",
      "  Before: .shift(func)\n",
      "  After:  .shift(func, meta={'x': 'f8', 'y': 'f8'}) for dataframe result\n",
      "  or:     .shift(func, meta=('x', 'f8'))            for series result\n",
      "\n",
      "  df['Adj_Close_lag_1'] = df.groupby('ticker')['Adj Close'].shift(1)\n"
     ]
    }
   ],
   "source": [
    "df = dd.read_parquet(parquet_files)\n",
    "df['Close_lag_1'] = df.groupby('ticker')['Close'].shift(1)\n",
    "df['Adj_Close_lag_1'] = df.groupby('ticker')['Adj Close'].shift(1)\n",
    "df['returns'] = df['Close'] / df['Close_lag_1'] - 1\n",
    "df['hi_lo_range'] = df['High'] - df['Low']\n",
    "\n",
    "# Remove any duplicate columns just in case\n",
    "df = df.loc[:, ~df.columns.duplicated()]\n",
    "\n",
    "dd_feat = df.copy()\n"
   ]
  },
  {
   "cell_type": "markdown",
   "metadata": {},
   "source": [
    "+ Convert the Dask data frame to a pandas data frame. \n",
    "+ Add a new feature containing the moving average of `returns` using a window of 10 days. There are several ways to solve this task, a simple one uses `.rolling(10).mean()`.\n",
    "\n",
    "(3 pt)"
   ]
  },
  {
   "cell_type": "code",
   "execution_count": 31,
   "metadata": {},
   "outputs": [
    {
     "name": "stdout",
     "output_type": "stream",
     "text": [
      "                      returns  returns_ma10\n",
      "__null_dask_index__                        \n",
      "704                       NaN           NaN\n",
      "705                 -0.004244           NaN\n",
      "706                  0.006926           NaN\n",
      "707                  0.005291           NaN\n",
      "708                 -0.010526           NaN\n",
      "709                  0.010638           NaN\n",
      "710                  0.000000           NaN\n",
      "711                  0.000000           NaN\n",
      "712                  0.002632           NaN\n",
      "713                  0.002100           NaN\n",
      "714                  0.021477      0.003429\n",
      "715                  0.000000      0.003854\n",
      "716                  0.000000      0.003161\n",
      "717                  0.000000      0.002632\n",
      "718                  0.012821      0.004967\n"
     ]
    }
   ],
   "source": [
    "# # dd_feat = dd_feat.loc[:, ~dd_feat.columns.duplicated()]\n",
    "# # pd_feat = dd_feat.compute()\n",
    "\n",
    "# # print(dd_feat.known_divisions)   # shows partition index metadata\n",
    "# # print(dd_feat.index.compute().is_unique)  # tells if index has dupes\n",
    "\n",
    "# # print(dd_feat.head(1000).index.is_unique)\n",
    "\n",
    "# # print(type(dd_feat.index))\n",
    "# # print(dd_feat.index.name)\n",
    "\n",
    "# # pd_feat = dd_feat.reset_index(drop=True).compute()\n",
    "\n",
    "# # pd_feat = dd_feat.reset_index(drop=True).compute()\n",
    "\n",
    "# # print(dd_feat.npartitions)    \n",
    "# # \n",
    "# # dd_feat = dd_feat.repartition(npartitions=50)  # adjust based on memory\n",
    "\n",
    "# # pd_feat = dd_feat.reset_index(drop=True).compute()\n",
    "\n",
    "# # dd_feat[\"returns_ma10\"] = dd_feat[\"returns\"].rolling(10).mean()\n",
    "# # pd_feat = dd_feat.head(5000)  # convert only a slice\n",
    "\n",
    "# # # Just take a subset so it doesn't choke\n",
    "# # pd_feat = dd_feat.head(5000)  \n",
    "\n",
    "# # # Compute rolling mean in Pandas\n",
    "# # pd_feat[\"returns_ma10\"] = pd_feat[\"returns\"].rolling(10).mean()\n",
    "\n",
    "# # print(dd_feat.columns)\n",
    "\n",
    "# import pandas as pd\n",
    "# import dask.dataframe as dd\n",
    "\n",
    "# # Take just the first partition into Pandas (fast, avoids scanning all 2848)\n",
    "# # pd_feat = dd_feat.get_partition(0).head(1000, compute=True)\n",
    "\n",
    "\n",
    "# # # Compute 10-day rolling mean of returns\n",
    "# # pd_feat[\"returns_ma10\"] = pd_feat[\"returns\"].rolling(10).mean()\n",
    "\n",
    "# # # Show first few rows\n",
    "# # print(pd_feat[[\"returns\", \"returns_ma10\"]].head(15))\n",
    "\n",
    "# # Compute the Dask DataFrame to pandas, limit to first 1000 rows for speed\n",
    "# # pd_feat = dd_feat.head(1000)\n",
    "\n",
    "# # # Compute 10-day rolling mean\n",
    "# # pd_feat[\"returns_ma10\"] = pd_feat[\"returns\"].rolling(10).mean()\n",
    "\n",
    "# # print(pd_feat.head(15))\n",
    "\n",
    "# import pandas as pd\n",
    "\n",
    "# # Read a small sample directly with Pandas\n",
    "# pd_feat = pd.read_parquet(parquet_files, engine=\"pyarrow\").head(1000)\n",
    "\n",
    "# # Compute 10-day rolling mean of returns\n",
    "# pd_feat[\"returns_ma10\"] = pd_feat[\"returns\"].rolling(10).mean()\n",
    "\n",
    "# print(pd_feat[[\"returns\", \"returns_ma10\"]].head(15))\n",
    "\n",
    "\n",
    "import pandas as pd\n",
    "\n",
    "# Load a manageable slice directly with Pandas\n",
    "pd_feat = pd.read_parquet(parquet_files, engine=\"pyarrow\").head(1000)\n",
    "\n",
    "# Recreate the engineered 'returns' column\n",
    "pd_feat[\"Close_lag_1\"] = pd_feat[\"Close\"].shift(1)\n",
    "pd_feat[\"returns\"] = pd_feat[\"Close\"] / pd_feat[\"Close_lag_1\"] - 1\n",
    "\n",
    "# Now compute the 10-day rolling mean of returns\n",
    "pd_feat[\"returns_ma10\"] = pd_feat[\"returns\"].rolling(10).mean()\n",
    "\n",
    "print(pd_feat[[\"returns\", \"returns_ma10\"]].head(15))\n"
   ]
  },
  {
   "cell_type": "markdown",
   "metadata": {},
   "source": [
    "Please comment:\n",
    "\n",
    "+ Was it necessary to convert to pandas to calculate the moving average return?\n",
    "+ Would it have been better to do it in Dask? Why?\n",
    "\n",
    "I have lost track of the point of this assignment, because all I've done, for hours a day, for the past two weeks, is desperately attempt to satisfy the instructions. \n",
    "\n",
    "(1 pt)"
   ]
  },
  {
   "cell_type": "markdown",
   "metadata": {},
   "source": [
    "## Criteria\n",
    "\n",
    "The [rubric](./assignment_1_rubric_clean.xlsx) contains the criteria for grading."
   ]
  },
  {
   "cell_type": "markdown",
   "metadata": {},
   "source": [
    "## Submission Information\n",
    "\n",
    "🚨 **Please review our [Assignment Submission Guide](https://github.com/UofT-DSI/onboarding/blob/main/onboarding_documents/submissions.md)** 🚨 for detailed instructions on how to format, branch, and submit your work. Following these guidelines is crucial for your submissions to be evaluated correctly.\n",
    "\n",
    "### Submission Parameters:\n",
    "* Submission Due Date: `HH:MM AM/PM - DD/MM/YYYY`\n",
    "* The branch name for your repo should be: `assignment-1`\n",
    "* What to submit for this assignment:\n",
    "    * This Jupyter Notebook (assignment_1.ipynb) should be populated and should be the only change in your pull request.\n",
    "* What the pull request link should look like for this assignment: `https://github.com/<your_github_username>/production/pull/<pr_id>`\n",
    "    * Open a private window in your browser. Copy and paste the link to your pull request into the address bar. Make sure you can see your pull request properly. This helps the technical facilitator and learning support staff review your submission easily.\n",
    "\n",
    "Checklist:\n",
    "- [ ] Created a branch with the correct naming convention.\n",
    "- [ ] Ensured that the repository is public.\n",
    "- [ ] Reviewed the PR description guidelines and adhered to them.\n",
    "- [ ] Verify that the link is accessible in a private browser window.\n",
    "\n",
    "If you encounter any difficulties or have questions, please don't hesitate to reach out to our team via our Slack at `#cohort-3-help`. Our Technical Facilitators and Learning Support staff are here to help you navigate any challenges."
   ]
  }
 ],
 "metadata": {
  "kernelspec": {
   "display_name": "dsi_participant",
   "language": "python",
   "name": "python3"
  },
  "language_info": {
   "codemirror_mode": {
    "name": "ipython",
    "version": 3
   },
   "file_extension": ".py",
   "mimetype": "text/x-python",
   "name": "python",
   "nbconvert_exporter": "python",
   "pygments_lexer": "ipython3",
   "version": "3.13.7"
  }
 },
 "nbformat": 4,
 "nbformat_minor": 2
}
